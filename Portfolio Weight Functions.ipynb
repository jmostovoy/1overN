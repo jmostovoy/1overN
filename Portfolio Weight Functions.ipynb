{
 "cells": [
  {
   "cell_type": "code",
   "execution_count": 1,
   "metadata": {},
   "outputs": [],
   "source": [
    "import pandas as pd\n",
    "import numpy as np\n",
    "\n",
    "from sklearn.decomposition import PCA\n",
    "from datetime import datetime\n",
    "date_format = '%Y-%m-%d' # This depends on the data\n",
    "#date_format = '%Y-%m-%d %H:%M:%S'\n",
    "\n",
    "#from scipy import optimize\n",
    "from scipy.optimize import minimize\n",
    "from functools import reduce\n",
    "\n",
    "import matplotlib.pyplot as plt\n",
    "from mpl_toolkits.mplot3d import Axes3D\n",
    "import matplotlib.tri as tri\n",
    "from matplotlib import animation\n",
    "import matplotlib.colors as mcolors\n",
    "from mpl_toolkits.axes_grid1 import make_axes_locatable\n",
    "plt.rcParams['animation.ffmpeg_path'] = '/usr/local/bin/ffmpeg'\n",
    "\n",
    "from IPython.display import HTML"
   ]
  },
  {
   "cell_type": "markdown",
   "metadata": {},
   "source": [
    "# Import data"
   ]
  },
  {
   "cell_type": "code",
   "execution_count": 2,
   "metadata": {},
   "outputs": [
    {
     "data": {
      "text/html": [
       "<div>\n",
       "<style scoped>\n",
       "    .dataframe tbody tr th:only-of-type {\n",
       "        vertical-align: middle;\n",
       "    }\n",
       "\n",
       "    .dataframe tbody tr th {\n",
       "        vertical-align: top;\n",
       "    }\n",
       "\n",
       "    .dataframe thead th {\n",
       "        text-align: right;\n",
       "    }\n",
       "</style>\n",
       "<table border=\"1\" class=\"dataframe\">\n",
       "  <thead>\n",
       "    <tr style=\"text-align: right;\">\n",
       "      <th></th>\n",
       "      <th>BXIIU3MC Index</th>\n",
       "      <th>Financials</th>\n",
       "      <th>Energy</th>\n",
       "      <th>Materials</th>\n",
       "      <th>Industrials</th>\n",
       "      <th>Info Tech</th>\n",
       "      <th>Cons. Discretionary</th>\n",
       "      <th>Health Care</th>\n",
       "      <th>Telecom</th>\n",
       "      <th>Cons. Staples</th>\n",
       "      <th>Real Estate</th>\n",
       "      <th>Utilities</th>\n",
       "      <th>US Treasury</th>\n",
       "      <th>US Corportate</th>\n",
       "      <th>US High Yield</th>\n",
       "      <th>CRY Index</th>\n",
       "    </tr>\n",
       "    <tr>\n",
       "      <th>Date</th>\n",
       "      <th></th>\n",
       "      <th></th>\n",
       "      <th></th>\n",
       "      <th></th>\n",
       "      <th></th>\n",
       "      <th></th>\n",
       "      <th></th>\n",
       "      <th></th>\n",
       "      <th></th>\n",
       "      <th></th>\n",
       "      <th></th>\n",
       "      <th></th>\n",
       "      <th></th>\n",
       "      <th></th>\n",
       "      <th></th>\n",
       "      <th></th>\n",
       "    </tr>\n",
       "  </thead>\n",
       "  <tbody>\n",
       "    <tr>\n",
       "      <th>2001-10-09</th>\n",
       "      <td>116.7366</td>\n",
       "      <td>323.74</td>\n",
       "      <td>212.40</td>\n",
       "      <td>119.11</td>\n",
       "      <td>231.76</td>\n",
       "      <td>282.14</td>\n",
       "      <td>205.8304</td>\n",
       "      <td>384.73</td>\n",
       "      <td>186.84</td>\n",
       "      <td>214.63</td>\n",
       "      <td>100.00</td>\n",
       "      <td>161.13</td>\n",
       "      <td>1173.64</td>\n",
       "      <td>1198.19</td>\n",
       "      <td>516.67</td>\n",
       "      <td>154.83</td>\n",
       "    </tr>\n",
       "    <tr>\n",
       "      <th>2001-10-10</th>\n",
       "      <td>116.7444</td>\n",
       "      <td>329.30</td>\n",
       "      <td>219.86</td>\n",
       "      <td>122.13</td>\n",
       "      <td>237.77</td>\n",
       "      <td>292.25</td>\n",
       "      <td>212.2388</td>\n",
       "      <td>391.11</td>\n",
       "      <td>188.55</td>\n",
       "      <td>217.03</td>\n",
       "      <td>99.19</td>\n",
       "      <td>163.84</td>\n",
       "      <td>1174.62</td>\n",
       "      <td>1198.94</td>\n",
       "      <td>516.28</td>\n",
       "      <td>155.13</td>\n",
       "    </tr>\n",
       "    <tr>\n",
       "      <th>2001-10-11</th>\n",
       "      <td>116.7523</td>\n",
       "      <td>333.50</td>\n",
       "      <td>218.96</td>\n",
       "      <td>126.10</td>\n",
       "      <td>243.57</td>\n",
       "      <td>308.68</td>\n",
       "      <td>219.5457</td>\n",
       "      <td>387.43</td>\n",
       "      <td>185.57</td>\n",
       "      <td>215.23</td>\n",
       "      <td>99.74</td>\n",
       "      <td>164.49</td>\n",
       "      <td>1169.71</td>\n",
       "      <td>1195.26</td>\n",
       "      <td>516.26</td>\n",
       "      <td>156.81</td>\n",
       "    </tr>\n",
       "    <tr>\n",
       "      <th>2001-10-12</th>\n",
       "      <td>116.7602</td>\n",
       "      <td>328.67</td>\n",
       "      <td>219.07</td>\n",
       "      <td>125.35</td>\n",
       "      <td>241.63</td>\n",
       "      <td>311.21</td>\n",
       "      <td>216.7271</td>\n",
       "      <td>388.68</td>\n",
       "      <td>183.25</td>\n",
       "      <td>212.67</td>\n",
       "      <td>99.48</td>\n",
       "      <td>163.94</td>\n",
       "      <td>1169.92</td>\n",
       "      <td>1196.89</td>\n",
       "      <td>520.86</td>\n",
       "      <td>153.76</td>\n",
       "    </tr>\n",
       "    <tr>\n",
       "      <th>2001-10-15</th>\n",
       "      <td>116.7841</td>\n",
       "      <td>331.49</td>\n",
       "      <td>214.47</td>\n",
       "      <td>124.40</td>\n",
       "      <td>241.74</td>\n",
       "      <td>307.85</td>\n",
       "      <td>216.6667</td>\n",
       "      <td>392.98</td>\n",
       "      <td>181.48</td>\n",
       "      <td>211.87</td>\n",
       "      <td>100.00</td>\n",
       "      <td>162.33</td>\n",
       "      <td>1174.22</td>\n",
       "      <td>1201.24</td>\n",
       "      <td>521.71</td>\n",
       "      <td>151.99</td>\n",
       "    </tr>\n",
       "  </tbody>\n",
       "</table>\n",
       "</div>"
      ],
      "text/plain": [
       "            BXIIU3MC Index  Financials  Energy  Materials  Industrials  \\\n",
       "Date                                                                     \n",
       "2001-10-09        116.7366      323.74  212.40     119.11       231.76   \n",
       "2001-10-10        116.7444      329.30  219.86     122.13       237.77   \n",
       "2001-10-11        116.7523      333.50  218.96     126.10       243.57   \n",
       "2001-10-12        116.7602      328.67  219.07     125.35       241.63   \n",
       "2001-10-15        116.7841      331.49  214.47     124.40       241.74   \n",
       "\n",
       "            Info Tech  Cons. Discretionary  Health Care  Telecom  \\\n",
       "Date                                                               \n",
       "2001-10-09     282.14             205.8304       384.73   186.84   \n",
       "2001-10-10     292.25             212.2388       391.11   188.55   \n",
       "2001-10-11     308.68             219.5457       387.43   185.57   \n",
       "2001-10-12     311.21             216.7271       388.68   183.25   \n",
       "2001-10-15     307.85             216.6667       392.98   181.48   \n",
       "\n",
       "            Cons. Staples  Real Estate  Utilities  US Treasury  US Corportate  \\\n",
       "Date                                                                            \n",
       "2001-10-09         214.63       100.00     161.13      1173.64        1198.19   \n",
       "2001-10-10         217.03        99.19     163.84      1174.62        1198.94   \n",
       "2001-10-11         215.23        99.74     164.49      1169.71        1195.26   \n",
       "2001-10-12         212.67        99.48     163.94      1169.92        1196.89   \n",
       "2001-10-15         211.87       100.00     162.33      1174.22        1201.24   \n",
       "\n",
       "            US High Yield  CRY Index  \n",
       "Date                                  \n",
       "2001-10-09         516.67     154.83  \n",
       "2001-10-10         516.28     155.13  \n",
       "2001-10-11         516.26     156.81  \n",
       "2001-10-12         520.86     153.76  \n",
       "2001-10-15         521.71     151.99  "
      ]
     },
     "execution_count": 2,
     "metadata": {},
     "output_type": "execute_result"
    }
   ],
   "source": [
    "data_directory = r\"C:\\\\Users\\\\VANDET4\\\\OneDrive - The Toronto-Dominion Bank\\\\Desktop\\\\RiskLab\\\\\"\n",
    "\n",
    "df = pd.read_csv(data_directory + \"dataframe.csv\",encoding='utf-8')\n",
    "\n",
    "df.drop(axis=\"columns\", labels=[\"Unnamed: 0\"], inplace=True)\n",
    "\n",
    "def to_datetime(date_string):\n",
    "    if type(date_string) == str:\n",
    "        return datetime.strptime(date_string,date_format)\n",
    "    else:\n",
    "        return date_string\n",
    "\n",
    "df[\"Date\"] = df[\"Date\"].apply(to_datetime)    \n",
    "df.set_index(\"Date\",inplace=True)\n",
    "\n",
    "df.head()"
   ]
  },
  {
   "cell_type": "code",
   "execution_count": 4,
   "metadata": {},
   "outputs": [],
   "source": [
    "# Make numpy array from values in dataframe\n",
    "data = df.values"
   ]
  },
  {
   "cell_type": "markdown",
   "metadata": {},
   "source": [
    "# 1/N"
   ]
  },
  {
   "cell_type": "code",
   "execution_count": 3,
   "metadata": {},
   "outputs": [],
   "source": [
    "def calc_naive(close_prices):\n",
    "    num_assets = close_prices.shape[1]\n",
    "    return np.full(num_assets,1 / num_assets)"
   ]
  },
  {
   "cell_type": "markdown",
   "metadata": {},
   "source": [
    "# MinVar"
   ]
  },
  {
   "cell_type": "code",
   "execution_count": 5,
   "metadata": {},
   "outputs": [],
   "source": [
    "# I am embarassingly naive here, I believe this is how you find the variance of a portfolio given weights w\n",
    "# Not sure whether to use normal returns or log returns\n",
    "def calc_portfolio_variance(w,close_prices):\n",
    "    norm_returns = close_prices / close_prices[0]\n",
    "    log_returns  = np.log(close_prices[1:] / close_prices[:-1])\n",
    "    return np.matmul(w.T, np.matmul(np.cov(log_returns.T)*252, w))\n",
    "\n",
    "# This function minimizes the the above function with respect to w, given the numpy array close_prices\n",
    "# returns the entire optimized result object\n",
    "# opt.x gives optimal weights, opt.success returns pass/fail for minimization\n",
    "def calc_MinVar_weights2(close_prices):\n",
    "    num_assets   = close_prices.shape[1]\n",
    "    norm_returns = close_prices / close_prices[0]\n",
    "    log_returns  = np.log(close_prices[1:] / close_prices[:-1])\n",
    "    \n",
    "    def con1(x):\n",
    "        return x.sum() - 1\n",
    "    \n",
    "    cons = ({'type': 'eq', 'fun': con1})\n",
    "    bnds = tuple([(0,1) for _ in range (0,num_assets)])\n",
    "    init_guess = calc_naive(close_prices)\n",
    "    \n",
    "    opt = minimize(calc_portfolio_variance, init_guess, args=(close_prices), constraints=cons, bounds=bnds)\n",
    "    \n",
    "    return opt"
   ]
  },
  {
   "cell_type": "code",
   "execution_count": 7,
   "metadata": {},
   "outputs": [
    {
     "data": {
      "image/png": "[encoded data removed]",
      "text/plain": [
       "<Figure size 432x288 with 1 Axes>"
      ]
     },
     "metadata": {
      "needs_background": "light"
     },
     "output_type": "display_data"
    }
   ],
   "source": [
    "x = np.arange(data.shape[1])\n",
    "Y = calc_MinVar_weights2(data[0:60,:]).x\n",
    "\n",
    "fig, ax = plt.subplots()\n",
    "\n",
    "plt.bar(x, Y)\n",
    "#plt.xticks(x,df.columns.to_list())\n",
    "plt.show()"
   ]
  },
  {
   "cell_type": "code",
   "execution_count": 8,
   "metadata": {},
   "outputs": [
    {
     "data": {
      "text/plain": [
       "['BXIIU3MC Index',\n",
       " 'Financials',\n",
       " 'Energy',\n",
       " 'Materials',\n",
       " 'Industrials',\n",
       " 'Info Tech',\n",
       " 'Cons. Discretionary',\n",
       " 'Health Care',\n",
       " 'Telecom',\n",
       " 'Cons. Staples',\n",
       " 'Real Estate',\n",
       " 'Utilities',\n",
       " 'US Treasury',\n",
       " 'US Corportate',\n",
       " 'US High Yield',\n",
       " 'CRY Index']"
      ]
     },
     "execution_count": 8,
     "metadata": {},
     "output_type": "execute_result"
    }
   ],
   "source": [
    "df.columns.to_list()"
   ]
  },
  {
   "cell_type": "markdown",
   "metadata": {},
   "source": [
    "# ERC"
   ]
  },
  {
   "cell_type": "code",
   "execution_count": 14,
   "metadata": {},
   "outputs": [],
   "source": [
    "\n",
    "def calc_sigma(prices):\n",
    "    norm_returns = prices / prices[0]\n",
    "    sigma = np.cov(norm_returns.T)\n",
    "    return sigma\n",
    "\n",
    "def calc_volatility(weights,prices):\n",
    "    norm_returns = prices / prices[0]\n",
    "    sigma = np.cov(norm_returns.T)\n",
    "    volatility = np.sqrt(np.matmul(weights,np.matmul(sigma,weights.T)))\n",
    "    return volatility\n",
    "\n",
    "def calc_ERC_weights(close_prices):\n",
    "    num_assets = close_prices.shape[1]\n",
    "    \n",
    "    # Constraints for portfolio weights\n",
    "    def con1(x):\n",
    "        return x.sum() - 1\n",
    "    \n",
    "    cons = ({'type': 'eq', 'fun': con1})\n",
    "    bnds = tuple([(0,1) for _ in range (0,num_assets)])\n",
    "    init_guess = np.full(num_assets,1 / num_assets)\n",
    "        \n",
    "    def f(w,close_prices):\n",
    "        N = len(w)\n",
    "        vol = calc_volatility(w,close_prices)\n",
    "        sig = calc_sigma(close_prices)\n",
    "        r = 0\n",
    "        for i in range(0,num_assets):\n",
    "            r = r + (w[i] - (vol**2)/(N*np.matmul(sig,w)[i]))**2\n",
    "        return r\n",
    "\n",
    "    opt = minimize(f,init_guess,args=(close_prices),constraints=cons,bounds=bnds)\n",
    "    if opt.success != True:\n",
    "        print('fail')\n",
    "    return opt"
   ]
  },
  {
   "cell_type": "code",
   "execution_count": 15,
   "metadata": {},
   "outputs": [
    {
     "data": {
      "image/png": "[encoded data removed]",
      "text/plain": [
       "<Figure size 432x288 with 1 Axes>"
      ]
     },
     "metadata": {
      "needs_background": "light"
     },
     "output_type": "display_data"
    }
   ],
   "source": [
    "x = np.arange(data.shape[1])\n",
    "Y = calc_ERC_weights(data[0:60,:]).x\n",
    "\n",
    "fig, ax = plt.subplots()\n",
    "\n",
    "plt.bar(x, Y)\n",
    "#plt.xticks(x,df.columns.to_list())\n",
    "plt.show()"
   ]
  }
 ],
 "metadata": {
  "kernelspec": {
   "display_name": "Python 3",
   "language": "python",
   "name": "python3"
  },
  "language_info": {
   "codemirror_mode": {
    "name": "ipython",
    "version": 3
   },
   "file_extension": ".py",
   "mimetype": "text/x-python",
   "name": "python",
   "nbconvert_exporter": "python",
   "pygments_lexer": "ipython3",
   "version": "3.7.3"
  }
 },
 "nbformat": 4,
 "nbformat_minor": 2
}
