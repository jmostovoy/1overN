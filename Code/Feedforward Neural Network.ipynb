{
 "cells": [
  {
   "cell_type": "markdown",
   "metadata": {},
   "source": [
    "### To Do:\n",
    "- Fix asset mix / performance to match original 1/N paper\n",
    "- Benchmark performance against using only correlationmatrix for features\n",
    "- Try on S&P? More data"
   ]
  },
  {
   "cell_type": "markdown",
   "metadata": {},
   "source": [
    "### Done\n",
    "- Day forward chaining for cross validation\n",
    "- Weight the loss by the std dev of the sharpe ratios\n",
    "- Measure performance of model strategy by sharpe ratio\n",
    "- ROC curves"
   ]
  },
  {
   "cell_type": "markdown",
   "metadata": {},
   "source": [
    "## Import PyTorch etc."
   ]
  },
  {
   "cell_type": "code",
   "execution_count": 1,
   "metadata": {},
   "outputs": [],
   "source": [
    "import torch\n",
    "import torch.nn as nn\n",
    "import torchvision.datasets as dsets\n",
    "import torchvision.transforms as transforms\n",
    "from torch.autograd import Variable\n",
    "import torch.nn.functional as F\n",
    "from torch.utils import data as torchdata\n",
    "\n",
    "from sklearn.metrics import roc_curve, auc\n",
    "from sklearn.preprocessing import label_binarize\n",
    "from sklearn.multiclass import OneVsRestClassifier\n",
    "from scipy import interp\n",
    "from sklearn.metrics import roc_auc_score\n",
    "\n",
    "import numpy as np\n",
    "import pandas as pd\n",
    "import matplotlib.pyplot as plt"
   ]
  },
  {
   "cell_type": "markdown",
   "metadata": {},
   "source": [
    "# Import Embedding and Performance Data"
   ]
  },
  {
   "cell_type": "code",
   "execution_count": 232,
   "metadata": {},
   "outputs": [],
   "source": [
    "performance = pd.read_csv('~/Documents/RiskLab/Asset Allocation Strategies/FinEmbed/Data/US_set_optimal_strategy.csv')\n",
    "#performance = pd.read_csv('~/Documents/RiskLab/Asset Allocation Strategies/FinEmbed/Data/US_set_optimal_strategy2.csv')\n",
    "feature = pd.read_csv('~/Documents/RiskLab/Asset Allocation Strategies/FinEmbed/Data/NNdata.csv')\n",
    "feature.drop(columns='Unnamed: 0',inplace=True)\n",
    "#performance.rename(columns={'Unnamed: 0':'Start Date'},inplace=True)\n",
    "#performance['MinVar Sharpe'] = 0.5*performance['MinVar Sharpe']\n",
    "\n",
    "def to_year_month(s):\n",
    "    s = str(s)\n",
    "    return s[:7]\n",
    "\n",
    "# performance['Start Date'] = performance['Unnamed: 0']\n",
    "# performance.drop(columns='Unnamed: 0',inplace=True)\n",
    "performance['Start Date'] = performance['Start Date'].apply(to_year_month)\n",
    "performance.rename(columns={'Sharpe 1/N': '1/N Sharpe', 'Sharpe ERC': 'ERC Sharpe', 'Sharpe MinVar': 'MinVar Sharpe'},inplace=True)\n",
    "\n",
    "feature = feature.T\n",
    "feature['Start Date'] = feature.index\n",
    "feature['Start Date'] = feature['Start Date'].apply(to_year_month)\n",
    "feature.reset_index(inplace=True,drop=True)\n",
    "feature.head()\n",
    "\n",
    "data = pd.merge(feature,performance,how='inner',on='Start Date')\n",
    "df = data\n",
    "data = data.values\n",
    "\n",
    "test_proportion = 0.2\n",
    "test_data = data[int(data.shape[0]*(1 - test_proportion)) + 2:,:]\n",
    "data = data[:int(data.shape[0]*(1 - test_proportion)),:]"
   ]
  },
  {
   "cell_type": "code",
   "execution_count": 233,
   "metadata": {},
   "outputs": [
    {
     "data": {
      "text/plain": [
       "1/N Sharpe       0.914930\n",
       "ERC Sharpe       1.511406\n",
       "MinVar Sharpe    0.439224\n",
       "dtype: float64"
      ]
     },
     "execution_count": 233,
     "metadata": {},
     "output_type": "execute_result"
    }
   ],
   "source": [
    "performance[['1/N Sharpe','ERC Sharpe', 'MinVar Sharpe']].mean()"
   ]
  },
  {
   "cell_type": "markdown",
   "metadata": {},
   "source": [
    "## Initialize Hyper-parameters"
   ]
  },
  {
   "cell_type": "code",
   "execution_count": 237,
   "metadata": {},
   "outputs": [],
   "source": [
    "input_size = 5593  \n",
    "hidden_size_1 = 500\n",
    "hidden_size_2 = 100\n",
    "num_classes = 3\n",
    "num_epochs = 250\n",
    "batch_size = 5\n",
    "learning_rate = 0.001"
   ]
  },
  {
   "cell_type": "markdown",
   "metadata": {},
   "source": [
    "## Feedforward Neural Network Model Structure"
   ]
  },
  {
   "cell_type": "code",
   "execution_count": 235,
   "metadata": {},
   "outputs": [],
   "source": [
    "class Net(nn.Module):\n",
    "    \n",
    "    def __init__(self,input_size,hidden_size_1,hidden_size_2,num_classes):\n",
    "      \n",
    "        super(Net, self).__init__()\n",
    "        self.linear1 = torch.nn.Linear(input_size,hidden_size_1)\n",
    "        self.linear2 = torch.nn.Linear(hidden_size_1,hidden_size_2)\n",
    "        self.linear3 = torch.nn.Linear(hidden_size_2,num_classes)\n",
    "        \n",
    "        \n",
    "    def forward(self, x):\n",
    "   \n",
    "        h1 = F.relu(self.linear1(x)) \n",
    "        h2 = F.relu(self.linear2(h1))\n",
    "        D = nn.Dropout(0.5)\n",
    "        #y_pred = self.linear3(D(h2))\n",
    "        y_pred = self.linear3(h2)\n",
    "        \n",
    "        return y_pred\n",
    "    "
   ]
  },
  {
   "cell_type": "markdown",
   "metadata": {},
   "source": [
    "## Instantiate the FNN"
   ]
  },
  {
   "cell_type": "code",
   "execution_count": 238,
   "metadata": {},
   "outputs": [],
   "source": [
    "net = Net(input_size, hidden_size_1, hidden_size_2, num_classes)\n",
    "criterion = nn.CrossEntropyLoss()\n",
    "optimizer = torch.optim.SGD(net.parameters(), lr=learning_rate)"
   ]
  },
  {
   "cell_type": "markdown",
   "metadata": {},
   "source": [
    "## Train. Day forward chaining"
   ]
  },
  {
   "cell_type": "code",
   "execution_count": 239,
   "metadata": {},
   "outputs": [
    {
     "ename": "KeyboardInterrupt",
     "evalue": "",
     "output_type": "error",
     "traceback": [
      "\u001b[0;31m---------------------------------------------------------------------------\u001b[0m",
      "\u001b[0;31mKeyboardInterrupt\u001b[0m                         Traceback (most recent call last)",
      "\u001b[0;32m<ipython-input-239-5f59c06b51ae>\u001b[0m in \u001b[0;36m<module>\u001b[0;34m()\u001b[0m\n\u001b[1;32m     41\u001b[0m             \u001b[0moutputs\u001b[0m \u001b[0;34m=\u001b[0m \u001b[0mnet\u001b[0m\u001b[0;34m(\u001b[0m\u001b[0mmonths\u001b[0m\u001b[0;34m)\u001b[0m                             \u001b[0;31m# Forward pass: compute the output class given a image\u001b[0m\u001b[0;34m\u001b[0m\u001b[0m\n\u001b[1;32m     42\u001b[0m             \u001b[0mloss\u001b[0m \u001b[0;34m=\u001b[0m \u001b[0mcriterion\u001b[0m\u001b[0;34m(\u001b[0m\u001b[0moutputs\u001b[0m\u001b[0;34m,\u001b[0m \u001b[0mlabels\u001b[0m\u001b[0;34m)\u001b[0m                 \u001b[0;31m# Compute the loss: difference between the output class and the pre-given label\u001b[0m\u001b[0;34m\u001b[0m\u001b[0m\n\u001b[0;32m---> 43\u001b[0;31m             \u001b[0mloss\u001b[0m\u001b[0;34m.\u001b[0m\u001b[0mbackward\u001b[0m\u001b[0;34m(\u001b[0m\u001b[0;34m)\u001b[0m                                   \u001b[0;31m# Backward pass: compute the weight\u001b[0m\u001b[0;34m\u001b[0m\u001b[0m\n\u001b[0m\u001b[1;32m     44\u001b[0m             \u001b[0moptimizer\u001b[0m\u001b[0;34m.\u001b[0m\u001b[0mstep\u001b[0m\u001b[0;34m(\u001b[0m\u001b[0;34m)\u001b[0m                                  \u001b[0;31m# Optimizer: update the weights of hidden nodes\u001b[0m\u001b[0;34m\u001b[0m\u001b[0m\n\u001b[1;32m     45\u001b[0m             \u001b[0mtrain_loss\u001b[0m\u001b[0;34m.\u001b[0m\u001b[0mappend\u001b[0m\u001b[0;34m(\u001b[0m\u001b[0mloss\u001b[0m\u001b[0;34m.\u001b[0m\u001b[0mitem\u001b[0m\u001b[0;34m(\u001b[0m\u001b[0;34m)\u001b[0m\u001b[0;34m)\u001b[0m\u001b[0;34m\u001b[0m\u001b[0m\n",
      "\u001b[0;32m~/anaconda3/lib/python3.6/site-packages/torch/tensor.py\u001b[0m in \u001b[0;36mbackward\u001b[0;34m(self, gradient, retain_graph, create_graph)\u001b[0m\n\u001b[1;32m    105\u001b[0m                 \u001b[0mproducts\u001b[0m\u001b[0;34m.\u001b[0m \u001b[0mDefaults\u001b[0m \u001b[0mto\u001b[0m\u001b[0;31m \u001b[0m\u001b[0;31m`\u001b[0m\u001b[0;31m`\u001b[0m\u001b[0;32mFalse\u001b[0m\u001b[0;31m`\u001b[0m\u001b[0;31m`\u001b[0m\u001b[0;34m.\u001b[0m\u001b[0;34m\u001b[0m\u001b[0m\n\u001b[1;32m    106\u001b[0m         \"\"\"\n\u001b[0;32m--> 107\u001b[0;31m         \u001b[0mtorch\u001b[0m\u001b[0;34m.\u001b[0m\u001b[0mautograd\u001b[0m\u001b[0;34m.\u001b[0m\u001b[0mbackward\u001b[0m\u001b[0;34m(\u001b[0m\u001b[0mself\u001b[0m\u001b[0;34m,\u001b[0m \u001b[0mgradient\u001b[0m\u001b[0;34m,\u001b[0m \u001b[0mretain_graph\u001b[0m\u001b[0;34m,\u001b[0m \u001b[0mcreate_graph\u001b[0m\u001b[0;34m)\u001b[0m\u001b[0;34m\u001b[0m\u001b[0m\n\u001b[0m\u001b[1;32m    108\u001b[0m \u001b[0;34m\u001b[0m\u001b[0m\n\u001b[1;32m    109\u001b[0m     \u001b[0;32mdef\u001b[0m \u001b[0mregister_hook\u001b[0m\u001b[0;34m(\u001b[0m\u001b[0mself\u001b[0m\u001b[0;34m,\u001b[0m \u001b[0mhook\u001b[0m\u001b[0;34m)\u001b[0m\u001b[0;34m:\u001b[0m\u001b[0;34m\u001b[0m\u001b[0m\n",
      "\u001b[0;32m~/anaconda3/lib/python3.6/site-packages/torch/autograd/__init__.py\u001b[0m in \u001b[0;36mbackward\u001b[0;34m(tensors, grad_tensors, retain_graph, create_graph, grad_variables)\u001b[0m\n\u001b[1;32m     91\u001b[0m     Variable._execution_engine.run_backward(\n\u001b[1;32m     92\u001b[0m         \u001b[0mtensors\u001b[0m\u001b[0;34m,\u001b[0m \u001b[0mgrad_tensors\u001b[0m\u001b[0;34m,\u001b[0m \u001b[0mretain_graph\u001b[0m\u001b[0;34m,\u001b[0m \u001b[0mcreate_graph\u001b[0m\u001b[0;34m,\u001b[0m\u001b[0;34m\u001b[0m\u001b[0m\n\u001b[0;32m---> 93\u001b[0;31m         allow_unreachable=True)  # allow_unreachable flag\n\u001b[0m\u001b[1;32m     94\u001b[0m \u001b[0;34m\u001b[0m\u001b[0m\n\u001b[1;32m     95\u001b[0m \u001b[0;34m\u001b[0m\u001b[0m\n",
      "\u001b[0;31mKeyboardInterrupt\u001b[0m: "
     ]
    }
   ],
   "source": [
    "feature_indicies = [0,5593]\n",
    "label_index = 5594\n",
    "\n",
    "num_obs = data.shape[0]\n",
    "n_links = 10\n",
    "link_size = int(num_obs / 5)\n",
    "\n",
    "train_loss_list, valid_loss_list = [],[]\n",
    "\n",
    "for epoch in range(1,num_epochs+1):\n",
    "    \n",
    "    train_loss, val_loss = [], []\n",
    "\n",
    "    for link in range(1,n_links+1):\n",
    "\n",
    "        # Partition Data\n",
    "        X_train = data[:link*link_size,feature_indicies[0]:feature_indicies[1]].astype(np.float64)\n",
    "        Y_train = data[:link*link_size,label_index].astype(np.float64)\n",
    "        X_val   = data[((link*link_size) + 2):(link+1)*link_size,feature_indicies[0]:feature_indicies[1]].astype(np.float64)\n",
    "        Y_val   = data[((link*link_size) + 2):(link+1)*link_size,label_index].astype(np.float64)\n",
    "\n",
    "        # Convert to tensor\n",
    "        X_train_tensor = torch.Tensor(X_train)\n",
    "        Y_train_tensor = torch.Tensor(Y_train)\n",
    "        X_val_tensor   = torch.Tensor(X_val)\n",
    "        Y_val_tensor   = torch.Tensor(Y_val)\n",
    "\n",
    "        # Create loader objects\n",
    "        train_data   = torchdata.TensorDataset(X_train_tensor,Y_train_tensor)\n",
    "        train_loader = torchdata.DataLoader(train_data,batch_size=batch_size,shuffle=False)\n",
    "        val_data     = torchdata.TensorDataset(X_val_tensor,Y_val_tensor)\n",
    "        val_loader   = torchdata.DataLoader(val_data,batch_size=batch_size,shuffle=False)\n",
    "\n",
    "\n",
    "        # Train weights\n",
    "        net.train()\n",
    "        for i, (months, labels) in enumerate(train_loader):   # Load a batch of images with its (index, data, class)\n",
    "            months = Variable(months)         \n",
    "            labels = Variable(labels.long())\n",
    "            optimizer.zero_grad()                             # Intialize the hidden weight to all zeros\n",
    "            outputs = net(months)                             # Forward pass: compute the output class given a image\n",
    "            loss = criterion(outputs, labels)                 # Compute the loss: difference between the output class and the pre-given label\n",
    "            loss.backward()                                   # Backward pass: compute the weight\n",
    "            optimizer.step()                                  # Optimizer: update the weights of hidden nodes\n",
    "            train_loss.append(loss.item())\n",
    "\n",
    "\n",
    "        # Validation    \n",
    "        net.eval()\n",
    "        for i, (months, labels) in enumerate(val_loader):\n",
    "            months = Variable(months)\n",
    "            labels = Variable(labels.long())\n",
    "            outputs = net(months)\n",
    "            loss = criterion(outputs, labels)\n",
    "            val_loss.append(loss.item())\n",
    "\n",
    "\n",
    "            \n",
    "    train_loss_list.append(np.mean(train_loss))\n",
    "    valid_loss_list.append(np.mean(val_loss))\n",
    "    \n",
    "    "
   ]
  },
  {
   "cell_type": "markdown",
   "metadata": {},
   "source": [
    "## Train. Day forward chaining with sharpe weights"
   ]
  },
  {
   "cell_type": "code",
   "execution_count": null,
   "metadata": {},
   "outputs": [],
   "source": [
    "feature_indices = np.arange(5593)\n",
    "sharpe_indices  = np.array([5596,5597,5598])\n",
    "label_index     = 5594\n",
    "\n",
    "num_obs = data.shape[0]\n",
    "n_links = 10\n",
    "link_size = int(num_obs / 5)\n",
    "\n",
    "train_loss_list, valid_loss_list = [],[]\n",
    "\n",
    "for epoch in range(1,num_epochs+1):\n",
    "    \n",
    "    train_loss, val_loss = [], []\n",
    "\n",
    "    for link in range(1,n_links+1):\n",
    "\n",
    "        # Partition Data\n",
    "        X_train = np.take(data[:link*link_size,:],feature_indices,axis=1).astype(np.float64)\n",
    "        Y_train = data[:link*link_size,label_index].astype(np.float64)\n",
    "        X_val   = np.take(data[((link*link_size) + 2):(link+1)*link_size,:],feature_indices,axis=1).astype(np.float64)\n",
    "        Y_val   = data[((link*link_size) + 2):(link+1)*link_size,label_index].astype(np.float64)\n",
    "\n",
    "        sharpe_train  = np.take(data[:link*link_size,:],sharpe_indices,axis=1).astype(np.float64)\n",
    "        sharpe_val    = np.take(data[((link*link_size) + 2):(link+1)*link_size,:],sharpe_indices,axis=1).astype(np.float64)\n",
    "\n",
    "        \n",
    "        # Convert to tensor\n",
    "        X_train_tensor = torch.Tensor(X_train)\n",
    "        Y_train_tensor = torch.Tensor(Y_train)\n",
    "        X_val_tensor   = torch.Tensor(X_val)\n",
    "        Y_val_tensor   = torch.Tensor(Y_val)\n",
    "        \n",
    "        sharpe_train_tensor = torch.Tensor(sharpe_train)\n",
    "        sharpe_val_tensor   = torch.Tensor(sharpe_val)\n",
    "        \n",
    "\n",
    "        # Create loader objects\n",
    "        train_data    = torchdata.TensorDataset(X_train_tensor,Y_train_tensor,sharpe_train_tensor)\n",
    "        train_loader  = torchdata.DataLoader(train_data,batch_size=batch_size,shuffle=False)\n",
    "        val_data      = torchdata.TensorDataset(X_val_tensor,Y_val_tensor,sharpe_val_tensor)\n",
    "        val_loader    = torchdata.DataLoader(val_data,batch_size=batch_size,shuffle=False)\n",
    "        \n",
    "        #sharpe_loader = torchdata.DataLoader(sharpe_tensor,batch_size=batch_size,shuffle=False)\n",
    "\n",
    "\n",
    "        # Train weights\n",
    "        net.train()\n",
    "        for i, (months, labels, ratios) in enumerate(train_loader):   # Load a batch of images with its (index, data, class)\n",
    "            \n",
    "            months, labels, ratios = Variable(months), Variable(labels.long()), Variable(ratios)         \n",
    "            \n",
    "            optimizer.zero_grad()                             # Intialize the hidden weight to all zeros\n",
    "            outputs = net(months)                             # Forward pass: compute the output class given a image\n",
    "            \n",
    "            loss = criterion(outputs,labels)\n",
    "            weight = np.std(ratios.data.numpy())\n",
    "            loss = loss*weight\n",
    "            loss.backward()                                   # Backward pass: compute the weight\n",
    "            \n",
    "            optimizer.step()                                  # Optimizer: update the weights of hidden nodes\n",
    "            train_loss.append(loss.item())\n",
    "            \n",
    "            \n",
    "        # Validation    \n",
    "        net.eval()\n",
    "        for i, (months, labels, ratios) in enumerate(val_loader):\n",
    "            months, labels, ratios = Variable(months), Variable(labels.long()), Variable(ratios)\n",
    "\n",
    "            outputs = net(months)\n",
    "            loss = criterion(outputs, labels)\n",
    "            weight = np.std(ratios.data.numpy())\n",
    "            loss = loss*weight\n",
    "            val_loss.append(loss.item())\n",
    "\n",
    "\n",
    "            \n",
    "    train_loss_list.append(np.mean(train_loss))\n",
    "    valid_loss_list.append(np.mean(val_loss))\n",
    "    "
   ]
  },
  {
   "cell_type": "markdown",
   "metadata": {},
   "source": [
    "## Performance"
   ]
  },
  {
   "cell_type": "code",
   "execution_count": 207,
   "metadata": {},
   "outputs": [
    {
     "data": {
      "text/plain": [
       "<matplotlib.legend.Legend at 0x135e2a0b8>"
      ]
     },
     "execution_count": 207,
     "metadata": {},
     "output_type": "execute_result"
    },
    {
     "data": {
      "image/png": "[encoded data removed]",
      "text/plain": [
       "<Figure size 720x504 with 1 Axes>"
      ]
     },
     "metadata": {},
     "output_type": "display_data"
    }
   ],
   "source": [
    "############################Plot of Testing Error and Validation Error#################\n",
    "\n",
    "fig, ax = plt.subplots(1,1,figsize = (10, 7))\n",
    "ax.set_title('Testing Error'+'  '+'Validation Error')\n",
    "ax.set_xlabel('Number of Epochs')\n",
    "ax.set_ylabel('Error')\n",
    "x = range(1,num_epochs+1)\n",
    "\n",
    "plt.plot(x,train_loss_list,c = 'b',label = 'Test Error')\n",
    "plt.plot(x, valid_loss_list,c = 'r',label = 'Valid Error')\n",
    "plt.title('lr:'+str(learning_rate)+' '+'link size:'+str(link_size)+' '+'layers:'\n",
    "          +str(input_size)+','+str(hidden_size_1)+','+str(hidden_size_2)+','+str(num_classes))\n",
    "ax.legend()\n"
   ]
  },
  {
   "cell_type": "code",
   "execution_count": 208,
   "metadata": {},
   "outputs": [
    {
     "name": "stdout",
     "output_type": "stream",
     "text": [
      "Accuracy: 65 %\n"
     ]
    }
   ],
   "source": [
    "X_test = np.take(test_data,feature_indices,axis=1).astype(np.float64)\n",
    "Y_test = test_data[:,label_index].astype(np.float64)\n",
    "\n",
    "X_test_tensor = torch.Tensor(X_test)\n",
    "Y_test_tensor = torch.Tensor(Y_test)\n",
    "\n",
    "test_data_tensor = torchdata.TensorDataset(X_test_tensor,Y_test_tensor)\n",
    "test_loader = torchdata.DataLoader(test_data_tensor,batch_size=batch_size,shuffle=False)\n",
    "\n",
    "correct = 0\n",
    "total = 0\n",
    "\n",
    "for months, labels in test_loader:\n",
    "    labels = labels.long()\n",
    "    months = Variable(months)\n",
    "    outputs = net(months)\n",
    "    _, predicted = torch.max(outputs.data, 1)  # Choose the best class from the output: The class with the best score\n",
    "    total += labels.size(0)                    # Increment the total count\n",
    "    correct += (predicted == labels).sum()     # Increment the correct count\n",
    "    \n",
    "print('Accuracy: %d %%' % (100 * correct / total))"
   ]
  },
  {
   "cell_type": "code",
   "execution_count": 209,
   "metadata": {},
   "outputs": [
    {
     "name": "stdout",
     "output_type": "stream",
     "text": [
      "optimal sharpe:  2.314\n",
      "model sharpe:    1.386\n",
      "average sharpe:  1.619\n",
      "\n",
      "naive sharpe:    1.839\n",
      "erc sharpe:      1.85\n",
      "minvar sharpe:   1.167\n"
     ]
    }
   ],
   "source": [
    "feature_test_tensor = torch.from_numpy(X_test) \n",
    "feature_test_tensor = feature_test_tensor.float()\n",
    "\n",
    "test_pred = net(feature_test_tensor).detach().numpy()\n",
    "\n",
    "p = np.take(test_data,sharpe_indices,axis=1)\n",
    "\n",
    "model_strategy   = np.argmax(test_pred,axis=1)[:,None]\n",
    "optimal_strategy = np.argmax(p,axis=1)[:,None]\n",
    "naive_strategy   = np.full(p.shape[0],0)[:,None]\n",
    "erc_strategy     = np.full(p.shape[0],1)[:,None]\n",
    "minvar_strategy  = np.full(p.shape[0],2)[:,None]\n",
    "\n",
    "model_sharpe   = np.take_along_axis(p,model_strategy,axis=1).mean()\n",
    "optimal_sharpe = np.take_along_axis(p,optimal_strategy,axis=1).mean()\n",
    "naive_sharpe   = np.take_along_axis(p,naive_strategy,axis=1).mean()\n",
    "erc_sharpe     = np.take_along_axis(p,erc_strategy,axis=1).mean()\n",
    "minvar_sharpe  = np.take_along_axis(p,minvar_strategy,axis=1).mean()\n",
    "\n",
    "print('optimal sharpe: ',round(optimal_sharpe,3))\n",
    "print('model sharpe:   ',round(model_sharpe,3))\n",
    "print('average sharpe: ',round((naive_sharpe + erc_sharpe + minvar_sharpe) / 3,3))\n",
    "print('')\n",
    "print('naive sharpe:   ',round(naive_sharpe,3))\n",
    "print('erc sharpe:     ',round(erc_sharpe,3))\n",
    "print('minvar sharpe:  ',round(minvar_sharpe,3))"
   ]
  },
  {
   "cell_type": "code",
   "execution_count": 210,
   "metadata": {},
   "outputs": [
    {
     "name": "stdout",
     "output_type": "stream",
     "text": [
      "[[ 0  5]\n",
      " [ 2 35]]\n"
     ]
    }
   ],
   "source": [
    "unique, counts = np.unique(model_strategy, return_counts=True)\n",
    "print( np.asarray((unique, counts)).T)"
   ]
  },
  {
   "cell_type": "code",
   "execution_count": 211,
   "metadata": {},
   "outputs": [
    {
     "name": "stdout",
     "output_type": "stream",
     "text": [
      "[[  0  46]\n",
      " [  1   3]\n",
      " [  2 160]]\n"
     ]
    }
   ],
   "source": [
    "# Strategy Distribution for entire data set\n",
    "unique, counts = np.unique(df['Strategy Code'].values, return_counts=True)\n",
    "print( np.asarray((unique, counts)).T)"
   ]
  },
  {
   "cell_type": "code",
   "execution_count": 212,
   "metadata": {},
   "outputs": [
    {
     "name": "stdout",
     "output_type": "stream",
     "text": [
      "1/N Sharpe       1.320836\n",
      "ERC Sharpe       1.332910\n",
      "MinVar Sharpe    1.588338\n",
      "dtype: float64\n"
     ]
    }
   ],
   "source": [
    "# Performance means for entire data set\n",
    "print(df[['1/N Sharpe','ERC Sharpe', 'MinVar Sharpe']].mean())"
   ]
  },
  {
   "cell_type": "code",
   "execution_count": 213,
   "metadata": {},
   "outputs": [
    {
     "name": "stdout",
     "output_type": "stream",
     "text": [
      "1/N Sharpe       2.144892\n",
      "ERC Sharpe       2.162040\n",
      "MinVar Sharpe    1.664713\n",
      "dtype: float64\n"
     ]
    }
   ],
   "source": [
    "# Performance variance for entire data set\n",
    "print(df[['1/N Sharpe','ERC Sharpe', 'MinVar Sharpe']].std())"
   ]
  },
  {
   "cell_type": "markdown",
   "metadata": {},
   "source": [
    "## ROC AUC"
   ]
  },
  {
   "cell_type": "code",
   "execution_count": 200,
   "metadata": {},
   "outputs": [
    {
     "data": {
      "image/png": "[encoded data removed]",
      "text/plain": [
       "<Figure size 720x504 with 1 Axes>"
      ]
     },
     "metadata": {},
     "output_type": "display_data"
    }
   ],
   "source": [
    "# Compute ROC curve and ROC area for each class\n",
    "\n",
    "a = np.zeros(test_pred.shape,int)\n",
    "b = np.argmax(p,axis=1)\n",
    "b = b[:,None]\n",
    "v = np.ones(test_pred.shape[0],int)\n",
    "v = v[:,None]\n",
    "\n",
    "np.put_along_axis(a, b, v, axis=1)\n",
    "\n",
    "# w = np.std(p,axis=1)\n",
    "# w = w / np.mean(w)\n",
    "\n",
    "fpr = dict()\n",
    "tpr = dict()\n",
    "roc_auc = dict()\n",
    "for i in range(n_classes):\n",
    "    fpr[i], tpr[i], _ = roc_curve(a[:, i], test_pred[:, i])\n",
    "    roc_auc[i] = auc(fpr[i], tpr[i])\n",
    "\n",
    "# Compute micro-average ROC curve and ROC area\n",
    "fpr[\"micro\"], tpr[\"micro\"], _ = roc_curve(a.ravel(), test_pred.ravel())\n",
    "roc_auc[\"micro\"] = auc(fpr[\"micro\"], tpr[\"micro\"])\n",
    "\n",
    "\n",
    "# First aggregate all false positive rates\n",
    "all_fpr = np.unique(np.concatenate([fpr[i] for i in range(num_classes)]))\n",
    "\n",
    "# Then interpolate all ROC curves at this points\n",
    "mean_tpr = np.zeros_like(all_fpr)\n",
    "for i in range(n_classes):\n",
    "    mean_tpr += interp(all_fpr, fpr[i], tpr[i])\n",
    "\n",
    "# Finally average it and compute AUC\n",
    "mean_tpr /= n_classes\n",
    "\n",
    "fpr[\"macro\"] = all_fpr\n",
    "tpr[\"macro\"] = mean_tpr\n",
    "roc_auc[\"macro\"] = auc(fpr[\"macro\"], tpr[\"macro\"])\n",
    "\n",
    "# Plot all ROC curves\n",
    "plt.figure(figsize=(10,7))\n",
    "plt.plot(fpr[\"micro\"], tpr[\"micro\"],\n",
    "         label='micro-average ROC curve (area = {0:0.2f})'\n",
    "               ''.format(roc_auc[\"micro\"]),\n",
    "         color='deeppink', linestyle='--', linewidth=1)\n",
    "\n",
    "plt.plot(fpr[\"macro\"], tpr[\"macro\"],\n",
    "         label='macro-average ROC curve (area = {0:0.2f})'\n",
    "               ''.format(roc_auc[\"macro\"]),\n",
    "         color='navy', linestyle='--', linewidth=1)\n",
    "\n",
    "colors = cycle(['aqua', 'darkorange', 'cornflowerblue'])\n",
    "classes = ['1/N','ERC','MinVar']\n",
    "for i, color in zip(range(n_classes), colors):\n",
    "    plt.plot(fpr[i], tpr[i], color=color, lw=lw,\n",
    "             label='ROC curve of class ' + classes[i] + ' (area = {1:0.2f})'\n",
    "             ''.format(i, roc_auc[i]))\n",
    "\n",
    "plt.plot([0, 1], [0, 1], 'k--', lw=lw)\n",
    "plt.xlim([0.0, 1.0])\n",
    "plt.ylim([0.0, 1.05])\n",
    "plt.xlabel('False Positive Rate')\n",
    "plt.ylabel('True Positive Rate')\n",
    "plt.title('Multi-class ROC curves')\n",
    "plt.legend(loc=\"lower right\")\n",
    "plt.show()"
   ]
  },
  {
   "cell_type": "code",
   "execution_count": null,
   "metadata": {},
   "outputs": [],
   "source": [
    "y_prob = classifier.predict_proba(X_train)\n",
    "\n",
    "macro_roc_auc_ovo = roc_auc_score(y_test, y_prob, multi_class=\"ovo\",\n",
    "                                  average=\"macro\")\n",
    "weighted_roc_auc_ovo = roc_auc_score(y_test, y_prob, multi_class=\"ovo\",\n",
    "                                     average=\"weighted\")\n",
    "macro_roc_auc_ovr = roc_auc_score(y_test, y_prob, multi_class=\"ovr\",\n",
    "                                  average=\"macro\")\n",
    "weighted_roc_auc_ovr = roc_auc_score(y_test, y_prob, multi_class=\"ovr\",\n",
    "                                     average=\"weighted\")\n",
    "print(\"One-vs-One ROC AUC scores:\\n{:.6f} (macro),\\n{:.6f} \"\n",
    "      \"(weighted by prevalence)\"\n",
    "      .format(macro_roc_auc_ovo, weighted_roc_auc_ovo))\n",
    "print(\"One-vs-Rest ROC AUC scores:\\n{:.6f} (macro),\\n{:.6f} \"\n",
    "      \"(weighted by prevalence)\"\n",
    "      .format(macro_roc_auc_ovr, weighted_roc_auc_ovr))"
   ]
  },
  {
   "cell_type": "markdown",
   "metadata": {},
   "source": [
    "## Test the FNN Model"
   ]
  },
  {
   "cell_type": "markdown",
   "metadata": {},
   "source": [
    "Similar to training the nerual network, we also need to load batches of test images and collect the outputs. The differences are that:\n",
    "(1) No loss & weights calculation\n",
    "(2) No wights update\n",
    "(3) Has correct prediction calculation"
   ]
  },
  {
   "cell_type": "code",
   "execution_count": 42,
   "metadata": {},
   "outputs": [
    {
     "name": "stdout",
     "output_type": "stream",
     "text": [
      "Accuracy of the network on the 10K test images: 55 %\n"
     ]
    }
   ],
   "source": [
    "correct = 0\n",
    "total = 0\n",
    "for images, labels in test_loader:\n",
    "    labels = labels.long()\n",
    "    images = Variable(images)#.view(-1, 28*28))\n",
    "    outputs = net(images)\n",
    "    _, predicted = torch.max(outputs.data, 1)  # Choose the best class from the output: The class with the best score\n",
    "    total += labels.size(0)                    # Increment the total count\n",
    "    correct += (predicted == labels).sum()     # Increment the correct count\n",
    "    \n",
    "print('Accuracy of the network on the 10K test images: %d %%' % (100 * correct / total))"
   ]
  },
  {
   "cell_type": "markdown",
   "metadata": {},
   "source": [
    "## Save the trained FNN Model for future use"
   ]
  },
  {
   "cell_type": "code",
   "execution_count": null,
   "metadata": {},
   "outputs": [],
   "source": []
  },
  {
   "cell_type": "code",
   "execution_count": 11,
   "metadata": {},
   "outputs": [],
   "source": [
    "# Save the model\n",
    "#torch.save(net.state_dict(), 'fnn_model.pkl')"
   ]
  }
 ],
 "metadata": {
  "kernelspec": {
   "display_name": "Python 3",
   "language": "python",
   "name": "python3"
  },
  "language_info": {
   "codemirror_mode": {
    "name": "ipython",
    "version": 3
   },
   "file_extension": ".py",
   "mimetype": "text/x-python",
   "name": "python",
   "nbconvert_exporter": "python",
   "pygments_lexer": "ipython3",
   "version": "3.6.5"
  }
 },
 "nbformat": 4,
 "nbformat_minor": 2
}
